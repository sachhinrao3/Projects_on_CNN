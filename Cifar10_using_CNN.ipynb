{
  "nbformat": 4,
  "nbformat_minor": 0,
  "metadata": {
    "colab": {
      "name": "Google COLAB 25GB RAM.ipynb",
      "provenance": [],
      "collapsed_sections": [],
      "machine_shape": "hm",
      "include_colab_link": true
    },
    "kernelspec": {
      "name": "python3",
      "display_name": "Python 3"
    },
    "accelerator": "GPU"
  },
  "cells": [
    {
      "cell_type": "markdown",
      "metadata": {
        "id": "view-in-github",
        "colab_type": "text"
      },
      "source": [
        "<a href=\"https://colab.research.google.com/github/sachhinrao3/Projects_on_CNN/blob/main/Cifar10_using_CNN.ipynb\" target=\"_parent\"><img src=\"https://colab.research.google.com/assets/colab-badge.svg\" alt=\"Open In Colab\"/></a>"
      ]
    },
    {
      "cell_type": "markdown",
      "metadata": {
        "id": "2j_R-uKO7tVC"
      },
      "source": [
        "In this project I have used a **Cifar10** dataset and build a **CNN model** for prediction the class of image.\r\n",
        "\r\n",
        "I have used 2 ways to build an CNN model, first one by **normal approch** and in second approach is used a **data augmentation technique**  with the help of **ImageDataGenerator** and compare the performance for both the cases."
      ]
    },
    {
      "cell_type": "code",
      "metadata": {
        "id": "4jMVhRAbcZkT",
        "colab": {
          "base_uri": "https://localhost:8080/"
        },
        "outputId": "8beca105-0995-4c92-af03-4dc7d8ae47a0"
      },
      "source": [
        "ls"
      ],
      "execution_count": 31,
      "outputs": [
        {
          "output_type": "stream",
          "text": [
            "\u001b[0m\u001b[01;34msample_data\u001b[0m/\n"
          ],
          "name": "stdout"
        }
      ]
    },
    {
      "cell_type": "code",
      "metadata": {
        "id": "wHRmGZw3Ho53"
      },
      "source": [
        "import numpy as np\r\n",
        "import matplotlib.pyplot as plt\r\n",
        "\r\n",
        "from tensorflow.keras.datasets import cifar10\r\n",
        "from tensorflow.keras.models import Model\r\n",
        "from tensorflow.keras.layers import Input, Conv2D, MaxPooling2D, GlobalMaxPooling2D, Flatten, Dense, Dropout, BatchNormalization \r\n",
        "from tensorflow.keras.preprocessing.image import ImageDataGenerator"
      ],
      "execution_count": 18,
      "outputs": []
    },
    {
      "cell_type": "code",
      "metadata": {
        "colab": {
          "base_uri": "https://localhost:8080/"
        },
        "id": "TlKQ7rkkHo2E",
        "outputId": "b711d664-5ccf-45b8-ac5a-3ee591064af4"
      },
      "source": [
        "# Load the dataset\r\n",
        "cifar10 = cifar10\r\n",
        "(x_train, y_train), (x_test, y_test) = cifar10.load_data()"
      ],
      "execution_count": 3,
      "outputs": [
        {
          "output_type": "stream",
          "text": [
            "Downloading data from https://www.cs.toronto.edu/~kriz/cifar-10-python.tar.gz\n",
            "170500096/170498071 [==============================] - 6s 0us/step\n"
          ],
          "name": "stdout"
        }
      ]
    },
    {
      "cell_type": "code",
      "metadata": {
        "colab": {
          "base_uri": "https://localhost:8080/",
          "height": 283
        },
        "id": "v9eyq6ccHoy0",
        "outputId": "33cd01fd-e533-4eaf-bc7c-381efbd751e4"
      },
      "source": [
        "plt.imshow(x_train[30])"
      ],
      "execution_count": 4,
      "outputs": [
        {
          "output_type": "execute_result",
          "data": {
            "text/plain": [
              "<matplotlib.image.AxesImage at 0x7f279c753898>"
            ]
          },
          "metadata": {
            "tags": []
          },
          "execution_count": 4
        },
        {
          "output_type": "display_data",
          "data": {
            "image/png": "[encoded data removed]",
            "text/plain": [
              "<Figure size 432x288 with 1 Axes>"
            ]
          },
          "metadata": {
            "tags": [],
            "needs_background": "light"
          }
        }
      ]
    },
    {
      "cell_type": "markdown",
      "metadata": {
        "id": "YsLOt1W0q_NC"
      },
      "source": [
        "Require shape for all type of x dataset (color as well as for greyscale) is: **N * H * W * C** . Which is true in our case.\r\n",
        "\r\n",
        "We also need to scale our data"
      ]
    },
    {
      "cell_type": "code",
      "metadata": {
        "colab": {
          "base_uri": "https://localhost:8080/"
        },
        "id": "tGrt7l5kaEVw",
        "outputId": "fae51b90-ec45-404e-9ed0-e922a84c769f"
      },
      "source": [
        "print(x_train.shape, x_test.shape)  "
      ],
      "execution_count": 5,
      "outputs": [
        {
          "output_type": "stream",
          "text": [
            "(50000, 32, 32, 3) (10000, 32, 32, 3)\n"
          ],
          "name": "stdout"
        }
      ]
    },
    {
      "cell_type": "code",
      "metadata": {
        "colab": {
          "base_uri": "https://localhost:8080/"
        },
        "id": "UXD0eMcfivrq",
        "outputId": "d49502cf-5222-4a53-b74b-d1492b5b2174"
      },
      "source": [
        "print(y_train.shape) # We need its shape must be in 1D. We can change 2D to 1D with the help of flatten() method"
      ],
      "execution_count": 6,
      "outputs": [
        {
          "output_type": "stream",
          "text": [
            "(50000, 1)\n"
          ],
          "name": "stdout"
        }
      ]
    },
    {
      "cell_type": "markdown",
      "metadata": {
        "id": "19JXz-38rHRx"
      },
      "source": [
        "Since the targets are 2D array N x 1 instead of N. Therefore, we need to **flatten** it."
      ]
    },
    {
      "cell_type": "code",
      "metadata": {
        "colab": {
          "base_uri": "https://localhost:8080/"
        },
        "id": "MrWa79AOivoZ",
        "outputId": "22efaded-f075-4d8d-8be8-59e6d98571f8"
      },
      "source": [
        "y_train, y_test = y_train.flatten(), y_test.flatten()  # Flatten the shape of the dataset -> From 2D to 1D\r\n",
        "print(y_train.shape)"
      ],
      "execution_count": 7,
      "outputs": [
        {
          "output_type": "stream",
          "text": [
            "(50000,)\n"
          ],
          "name": "stdout"
        }
      ]
    },
    {
      "cell_type": "code",
      "metadata": {
        "colab": {
          "base_uri": "https://localhost:8080/"
        },
        "id": "8XHbbykdivHs",
        "outputId": "6987311f-b7aa-4d1c-cc42-cbd7c9f50b03"
      },
      "source": [
        "# No. of classes\r\n",
        "K = len(set(y_train))\r\n",
        "print('Number od classes:', K)"
      ],
      "execution_count": 8,
      "outputs": [
        {
          "output_type": "stream",
          "text": [
            "Number od classes: 10\n"
          ],
          "name": "stdout"
        }
      ]
    },
    {
      "cell_type": "markdown",
      "metadata": {
        "id": "MforUwOHrRn1"
      },
      "source": [
        "\r\n",
        "Build the Model using the **functional API.**"
      ]
    },
    {
      "cell_type": "code",
      "metadata": {
        "id": "o1KkCg4MivD7"
      },
      "source": [
        "# Build a model and also apply hyperparameter\r\n",
        "i = Input(shape=x_train[0].shape)\r\n",
        "# x = Conv2D(32, (3, 3), strides=2, activation='relu')(i)\r\n",
        "# x = Conv2D(64, (3, 3), strides=2, activation='relu')(x)\r\n",
        "# x = Conv2D(128, (3, 3), strides=2, activation='relu')(x)\r\n",
        "\r\n",
        "x = Conv2D(32, (3, 3), activation='relu', padding='same')(i)\r\n",
        "x = BatchNormalization()(x)\r\n",
        "x = Conv2D(32, (3, 3), activation='relu', padding='same')(x)\r\n",
        "x = BatchNormalization()(x)\r\n",
        "x = MaxPooling2D((2, 2))(x)\r\n",
        "# x = Dropout(0.2)(x)\r\n",
        "x = Conv2D(64, (3, 3), activation='relu', padding='same')(x)\r\n",
        "x = BatchNormalization()(x)\r\n",
        "x = Conv2D(64, (3, 3), activation='relu', padding='same')(x)\r\n",
        "x = BatchNormalization()(x)\r\n",
        "x = MaxPooling2D((2, 2))(x)\r\n",
        "# x = Dropout(0.2)(x)\r\n",
        "x = Conv2D(128, (3, 3), activation='relu', padding='same')(x)\r\n",
        "x = BatchNormalization()(x)\r\n",
        "x = Conv2D(128, (3, 3), activation='relu', padding='same')(x)\r\n",
        "x = BatchNormalization()(x)\r\n",
        "x = MaxPooling2D((2, 2))(x)\r\n",
        "# x = Dropout(0.2)(x)\r\n",
        "\r\n",
        "# x = GlobalMaxPooling2D()(x)\r\n",
        "x = Flatten()(x)                    # We can use flatten method also because all images in the dataset have same size\r\n",
        "x = Dropout(0.2)(x)\r\n",
        "x = Dense(1024, activation='relu')(x)\r\n",
        "x = Dropout(0.2)(x)\r\n",
        "x = Dense(K, activation='softmax')(x)\r\n",
        "\r\n",
        "model = Model(i, x)\r\n",
        "\r\n",
        "# Compile the model\r\n",
        "model.compile(\r\n",
        "              optimizer='adam',\r\n",
        "              loss= 'sparse_categorical_crossentropy',\r\n",
        "              metrics= ['accuracy'])"
      ],
      "execution_count": 16,
      "outputs": []
    },
    {
      "cell_type": "code",
      "metadata": {
        "colab": {
          "base_uri": "https://localhost:8080/"
        },
        "id": "nR0774u3iu7_",
        "outputId": "56b8b568-7193-4917-9621-c32043db74f6"
      },
      "source": [
        "# Fit the model\r\n",
        "r = model.fit(x_train, y_train, validation_data=(x_test, y_test), epochs=50, batch_size=1000)"
      ],
      "execution_count": 13,
      "outputs": [
        {
          "output_type": "stream",
          "text": [
            "Epoch 1/50\n",
            " 2/50 [>.............................] - ETA: 2s - loss: 5.7901 - accuracy: 0.1195WARNING:tensorflow:Callbacks method `on_train_batch_end` is slow compared to the batch time (batch time: 0.0053s vs `on_train_batch_end` time: 0.0496s). Check your callbacks.\n",
            "50/50 [==============================] - ETA: 0s - loss: 2.2316 - accuracy: 0.3628WARNING:tensorflow:Callbacks method `on_test_batch_end` is slow compared to the batch time (batch time: 0.0025s vs `on_test_batch_end` time: 0.0108s). Check your callbacks.\n",
            "50/50 [==============================] - 3s 59ms/step - loss: 2.2316 - accuracy: 0.3628 - val_loss: 2.2712 - val_accuracy: 0.1089\n",
            "Epoch 2/50\n",
            "50/50 [==============================] - 3s 55ms/step - loss: 1.3000 - accuracy: 0.5376 - val_loss: 1.7455 - val_accuracy: 0.3887\n",
            "Epoch 3/50\n",
            "50/50 [==============================] - 3s 55ms/step - loss: 1.0691 - accuracy: 0.6246 - val_loss: 1.1548 - val_accuracy: 0.5902\n",
            "Epoch 4/50\n",
            "50/50 [==============================] - 3s 55ms/step - loss: 0.9083 - accuracy: 0.6818 - val_loss: 0.9991 - val_accuracy: 0.6492\n",
            "Epoch 5/50\n",
            "50/50 [==============================] - 3s 55ms/step - loss: 0.7792 - accuracy: 0.7301 - val_loss: 0.8907 - val_accuracy: 0.6886\n",
            "Epoch 6/50\n",
            "50/50 [==============================] - 3s 55ms/step - loss: 0.6850 - accuracy: 0.7625 - val_loss: 0.7978 - val_accuracy: 0.7210\n",
            "Epoch 7/50\n",
            "50/50 [==============================] - 3s 55ms/step - loss: 0.5917 - accuracy: 0.7942 - val_loss: 0.8281 - val_accuracy: 0.7197\n",
            "Epoch 8/50\n",
            "50/50 [==============================] - 3s 55ms/step - loss: 0.5138 - accuracy: 0.8220 - val_loss: 0.7154 - val_accuracy: 0.7595\n",
            "Epoch 9/50\n",
            "50/50 [==============================] - 3s 55ms/step - loss: 0.4518 - accuracy: 0.8426 - val_loss: 0.6907 - val_accuracy: 0.7686\n",
            "Epoch 10/50\n",
            "50/50 [==============================] - 3s 55ms/step - loss: 0.3914 - accuracy: 0.8639 - val_loss: 0.7401 - val_accuracy: 0.7567\n",
            "Epoch 11/50\n",
            "50/50 [==============================] - 3s 55ms/step - loss: 0.3202 - accuracy: 0.8887 - val_loss: 0.7248 - val_accuracy: 0.7713\n",
            "Epoch 12/50\n",
            "50/50 [==============================] - 3s 55ms/step - loss: 0.2788 - accuracy: 0.9037 - val_loss: 0.7341 - val_accuracy: 0.7764\n",
            "Epoch 13/50\n",
            "50/50 [==============================] - 3s 55ms/step - loss: 0.2299 - accuracy: 0.9198 - val_loss: 0.7530 - val_accuracy: 0.7832\n",
            "Epoch 14/50\n",
            "50/50 [==============================] - 3s 55ms/step - loss: 0.1937 - accuracy: 0.9346 - val_loss: 0.8054 - val_accuracy: 0.7774\n",
            "Epoch 15/50\n",
            "50/50 [==============================] - 3s 55ms/step - loss: 0.1684 - accuracy: 0.9421 - val_loss: 0.7573 - val_accuracy: 0.7788\n",
            "Epoch 16/50\n",
            "50/50 [==============================] - 3s 55ms/step - loss: 0.1413 - accuracy: 0.9516 - val_loss: 0.8021 - val_accuracy: 0.7864\n",
            "Epoch 17/50\n",
            "50/50 [==============================] - 3s 55ms/step - loss: 0.1201 - accuracy: 0.9588 - val_loss: 0.8131 - val_accuracy: 0.7929\n",
            "Epoch 18/50\n",
            "50/50 [==============================] - 3s 55ms/step - loss: 0.1072 - accuracy: 0.9634 - val_loss: 0.8446 - val_accuracy: 0.7943\n",
            "Epoch 19/50\n",
            "50/50 [==============================] - 3s 55ms/step - loss: 0.0986 - accuracy: 0.9668 - val_loss: 0.9344 - val_accuracy: 0.7859\n",
            "Epoch 20/50\n",
            "50/50 [==============================] - 3s 55ms/step - loss: 0.0885 - accuracy: 0.9712 - val_loss: 0.8669 - val_accuracy: 0.7943\n",
            "Epoch 21/50\n",
            "50/50 [==============================] - 3s 54ms/step - loss: 0.0850 - accuracy: 0.9723 - val_loss: 0.8486 - val_accuracy: 0.7914\n",
            "Epoch 22/50\n",
            "50/50 [==============================] - 3s 55ms/step - loss: 0.0754 - accuracy: 0.9741 - val_loss: 1.0058 - val_accuracy: 0.7722\n",
            "Epoch 23/50\n",
            "50/50 [==============================] - 3s 55ms/step - loss: 0.0700 - accuracy: 0.9760 - val_loss: 0.9920 - val_accuracy: 0.7900\n",
            "Epoch 24/50\n",
            "50/50 [==============================] - 3s 55ms/step - loss: 0.0653 - accuracy: 0.9787 - val_loss: 0.9494 - val_accuracy: 0.7892\n",
            "Epoch 25/50\n",
            "50/50 [==============================] - 3s 55ms/step - loss: 0.0622 - accuracy: 0.9787 - val_loss: 0.9344 - val_accuracy: 0.7960\n",
            "Epoch 26/50\n",
            "50/50 [==============================] - 3s 55ms/step - loss: 0.0604 - accuracy: 0.9794 - val_loss: 1.0384 - val_accuracy: 0.7856\n",
            "Epoch 27/50\n",
            "50/50 [==============================] - 3s 55ms/step - loss: 0.0525 - accuracy: 0.9822 - val_loss: 1.0027 - val_accuracy: 0.7922\n",
            "Epoch 28/50\n",
            "50/50 [==============================] - 3s 55ms/step - loss: 0.0523 - accuracy: 0.9819 - val_loss: 0.9904 - val_accuracy: 0.7942\n",
            "Epoch 29/50\n",
            "50/50 [==============================] - 3s 55ms/step - loss: 0.0480 - accuracy: 0.9837 - val_loss: 0.9524 - val_accuracy: 0.7946\n",
            "Epoch 30/50\n",
            "50/50 [==============================] - 3s 55ms/step - loss: 0.0444 - accuracy: 0.9851 - val_loss: 0.9662 - val_accuracy: 0.7861\n",
            "Epoch 31/50\n",
            "50/50 [==============================] - 3s 55ms/step - loss: 0.0447 - accuracy: 0.9854 - val_loss: 0.9629 - val_accuracy: 0.7939\n",
            "Epoch 32/50\n",
            "50/50 [==============================] - 3s 55ms/step - loss: 0.0455 - accuracy: 0.9850 - val_loss: 0.9870 - val_accuracy: 0.7948\n",
            "Epoch 33/50\n",
            "50/50 [==============================] - 3s 55ms/step - loss: 0.0471 - accuracy: 0.9836 - val_loss: 0.9705 - val_accuracy: 0.7927\n",
            "Epoch 34/50\n",
            "50/50 [==============================] - 3s 55ms/step - loss: 0.0474 - accuracy: 0.9841 - val_loss: 0.9197 - val_accuracy: 0.7960\n",
            "Epoch 35/50\n",
            "50/50 [==============================] - 3s 55ms/step - loss: 0.0454 - accuracy: 0.9845 - val_loss: 1.1036 - val_accuracy: 0.7845\n",
            "Epoch 36/50\n",
            "50/50 [==============================] - 3s 55ms/step - loss: 0.0408 - accuracy: 0.9860 - val_loss: 1.0109 - val_accuracy: 0.7902\n",
            "Epoch 37/50\n",
            "50/50 [==============================] - 3s 55ms/step - loss: 0.0365 - accuracy: 0.9874 - val_loss: 0.9885 - val_accuracy: 0.7999\n",
            "Epoch 38/50\n",
            "50/50 [==============================] - 3s 55ms/step - loss: 0.0417 - accuracy: 0.9853 - val_loss: 1.0619 - val_accuracy: 0.8005\n",
            "Epoch 39/50\n",
            "50/50 [==============================] - 3s 55ms/step - loss: 0.0372 - accuracy: 0.9871 - val_loss: 1.0243 - val_accuracy: 0.7966\n",
            "Epoch 40/50\n",
            "50/50 [==============================] - 3s 55ms/step - loss: 0.0368 - accuracy: 0.9871 - val_loss: 1.0136 - val_accuracy: 0.8030\n",
            "Epoch 41/50\n",
            "50/50 [==============================] - 3s 55ms/step - loss: 0.0397 - accuracy: 0.9864 - val_loss: 1.0461 - val_accuracy: 0.7954\n",
            "Epoch 42/50\n",
            "50/50 [==============================] - 3s 55ms/step - loss: 0.0354 - accuracy: 0.9880 - val_loss: 0.9422 - val_accuracy: 0.8067\n",
            "Epoch 43/50\n",
            "50/50 [==============================] - 3s 54ms/step - loss: 0.0340 - accuracy: 0.9880 - val_loss: 1.0010 - val_accuracy: 0.8077\n",
            "Epoch 44/50\n",
            "50/50 [==============================] - 3s 55ms/step - loss: 0.0327 - accuracy: 0.9888 - val_loss: 1.0688 - val_accuracy: 0.7930\n",
            "Epoch 45/50\n",
            "50/50 [==============================] - 3s 54ms/step - loss: 0.0345 - accuracy: 0.9878 - val_loss: 0.9912 - val_accuracy: 0.7948\n",
            "Epoch 46/50\n",
            "50/50 [==============================] - 3s 55ms/step - loss: 0.0349 - accuracy: 0.9884 - val_loss: 0.9689 - val_accuracy: 0.7984\n",
            "Epoch 47/50\n",
            "50/50 [==============================] - 3s 54ms/step - loss: 0.0328 - accuracy: 0.9893 - val_loss: 1.0738 - val_accuracy: 0.8058\n",
            "Epoch 48/50\n",
            "50/50 [==============================] - 3s 55ms/step - loss: 0.0314 - accuracy: 0.9895 - val_loss: 1.0637 - val_accuracy: 0.8041\n",
            "Epoch 49/50\n",
            "50/50 [==============================] - 3s 55ms/step - loss: 0.0332 - accuracy: 0.9886 - val_loss: 1.1008 - val_accuracy: 0.8044\n",
            "Epoch 50/50\n",
            "50/50 [==============================] - 3s 54ms/step - loss: 0.0300 - accuracy: 0.9898 - val_loss: 1.1123 - val_accuracy: 0.7974\n"
          ],
          "name": "stdout"
        }
      ]
    },
    {
      "cell_type": "markdown",
      "metadata": {
        "id": "zaA7Xpsar11J"
      },
      "source": [
        "**Observations:** Here we can see our accuracy is **98%** and validation accuracy as **80%**. So, it's a case of **Overfitting**.\r\n"
      ]
    },
    {
      "cell_type": "markdown",
      "metadata": {
        "id": "ft3qmrkCsIVr"
      },
      "source": [
        "Plot the Loss and Score as per iteration."
      ]
    },
    {
      "cell_type": "code",
      "metadata": {
        "colab": {
          "base_uri": "https://localhost:8080/",
          "height": 265
        },
        "id": "5HmbZ8__ruMN",
        "outputId": "74fa4566-0e83-4659-e04e-9622384aeb51"
      },
      "source": [
        "# plot the loss per iteration\r\n",
        "plt.plot(r.history['loss'], label='loss')\r\n",
        "plt.plot(r.history['val_loss'], label='val_loss')\r\n",
        "plt.legend();"
      ],
      "execution_count": 14,
      "outputs": [
        {
          "output_type": "display_data",
          "data": {
            "image/png": "[encoded data removed]",
            "text/plain": [
              "<Figure size 432x288 with 1 Axes>"
            ]
          },
          "metadata": {
            "tags": [],
            "needs_background": "light"
          }
        }
      ]
    },
    {
      "cell_type": "code",
      "metadata": {
        "colab": {
          "base_uri": "https://localhost:8080/",
          "height": 265
        },
        "id": "N6mm3kV5ruJd",
        "outputId": "97ec4677-8c99-473c-add6-b1f98b55173e"
      },
      "source": [
        "# plot the score per iterations\r\n",
        "plt.plot(r.history['accuracy'], label='accuracy')\r\n",
        "plt.plot(r.history['val_accuracy'], label='val_score')\r\n",
        "plt.legend();"
      ],
      "execution_count": 15,
      "outputs": [
        {
          "output_type": "display_data",
          "data": {
            "image/png": "[encoded data removed]",
            "text/plain": [
              "<Figure size 432x288 with 1 Axes>"
            ]
          },
          "metadata": {
            "tags": [],
            "needs_background": "light"
          }
        }
      ]
    },
    {
      "cell_type": "markdown",
      "metadata": {
        "id": "z3CxO5KCs7cA"
      },
      "source": [
        "### Fit data using ***Data Augmentation Technique***.\r\n",
        "\r\n",
        "**NOTE:** If you run it **AFTER** calling the previous model.fit() method, it will **CONTINUE** training where it left off"
      ]
    },
    {
      "cell_type": "code",
      "metadata": {
        "colab": {
          "base_uri": "https://localhost:8080/"
        },
        "id": "H7Ub8iOXruG4",
        "outputId": "b9d34bb7-ca66-4afc-e53f-a5e4991c4be3"
      },
      "source": [
        "# Fit with data augmentation\r\n",
        "batch_size = 32\r\n",
        "data_generator = ImageDataGenerator(width_shift_range= 0.1, height_shift_range= 0.1, horizontal_flip= True)\r\n",
        "train_generator = data_generator.flow(x_train, y_train, batch_size)\r\n",
        "steps_per_epochs = x_train.shape[0]//batch_size \r\n",
        "\r\n",
        "r = model.fit_generator(train_generator, validation_data= (x_test, y_test), steps_per_epoch= steps_per_epochs, epochs = 50)"
      ],
      "execution_count": 19,
      "outputs": [
        {
          "output_type": "stream",
          "text": [
            "WARNING:tensorflow:From <ipython-input-19-1a485ac82298>:7: Model.fit_generator (from tensorflow.python.keras.engine.training) is deprecated and will be removed in a future version.\n",
            "Instructions for updating:\n",
            "Please use Model.fit, which supports generators.\n",
            "Epoch 1/50\n",
            "1562/1562 [==============================] - 21s 13ms/step - loss: 1.4605 - accuracy: 0.4924 - val_loss: 1.2311 - val_accuracy: 0.5811\n",
            "Epoch 2/50\n",
            "1562/1562 [==============================] - 21s 13ms/step - loss: 1.0117 - accuracy: 0.6467 - val_loss: 0.8451 - val_accuracy: 0.7106\n",
            "Epoch 3/50\n",
            "1562/1562 [==============================] - 21s 13ms/step - loss: 0.8518 - accuracy: 0.7070 - val_loss: 0.8805 - val_accuracy: 0.7030\n",
            "Epoch 4/50\n",
            "1562/1562 [==============================] - 21s 13ms/step - loss: 0.7617 - accuracy: 0.7382 - val_loss: 0.8180 - val_accuracy: 0.7308\n",
            "Epoch 5/50\n",
            "1562/1562 [==============================] - 21s 13ms/step - loss: 0.6939 - accuracy: 0.7637 - val_loss: 0.7029 - val_accuracy: 0.7546\n",
            "Epoch 6/50\n",
            "1562/1562 [==============================] - 21s 13ms/step - loss: 0.6428 - accuracy: 0.7820 - val_loss: 0.6466 - val_accuracy: 0.7714\n",
            "Epoch 7/50\n",
            "1562/1562 [==============================] - 21s 13ms/step - loss: 0.6006 - accuracy: 0.7960 - val_loss: 0.5608 - val_accuracy: 0.8162\n",
            "Epoch 8/50\n",
            "1562/1562 [==============================] - 21s 13ms/step - loss: 0.5617 - accuracy: 0.8078 - val_loss: 0.5491 - val_accuracy: 0.8117\n",
            "Epoch 9/50\n",
            "1562/1562 [==============================] - 21s 13ms/step - loss: 0.5321 - accuracy: 0.8205 - val_loss: 0.5523 - val_accuracy: 0.8149\n",
            "Epoch 10/50\n",
            "1562/1562 [==============================] - 21s 13ms/step - loss: 0.4958 - accuracy: 0.8319 - val_loss: 0.5710 - val_accuracy: 0.8087\n",
            "Epoch 11/50\n",
            "1562/1562 [==============================] - 21s 13ms/step - loss: 0.4742 - accuracy: 0.8377 - val_loss: 0.5758 - val_accuracy: 0.8147\n",
            "Epoch 12/50\n",
            "1562/1562 [==============================] - 21s 13ms/step - loss: 0.4549 - accuracy: 0.8443 - val_loss: 0.4795 - val_accuracy: 0.8381\n",
            "Epoch 13/50\n",
            "1562/1562 [==============================] - 21s 13ms/step - loss: 0.4331 - accuracy: 0.8534 - val_loss: 0.5507 - val_accuracy: 0.8155\n",
            "Epoch 14/50\n",
            "1562/1562 [==============================] - 21s 13ms/step - loss: 0.4173 - accuracy: 0.8574 - val_loss: 0.6273 - val_accuracy: 0.7892\n",
            "Epoch 15/50\n",
            "1562/1562 [==============================] - 21s 13ms/step - loss: 0.3986 - accuracy: 0.8632 - val_loss: 0.4606 - val_accuracy: 0.8444\n",
            "Epoch 16/50\n",
            "1562/1562 [==============================] - 21s 13ms/step - loss: 0.3800 - accuracy: 0.8704 - val_loss: 0.4821 - val_accuracy: 0.8425\n",
            "Epoch 17/50\n",
            "1562/1562 [==============================] - 21s 13ms/step - loss: 0.3674 - accuracy: 0.8729 - val_loss: 0.4813 - val_accuracy: 0.8400\n",
            "Epoch 18/50\n",
            "1562/1562 [==============================] - 21s 13ms/step - loss: 0.3571 - accuracy: 0.8772 - val_loss: 0.4289 - val_accuracy: 0.8591\n",
            "Epoch 19/50\n",
            "1562/1562 [==============================] - 21s 13ms/step - loss: 0.3425 - accuracy: 0.8823 - val_loss: 0.4431 - val_accuracy: 0.8528\n",
            "Epoch 20/50\n",
            "1562/1562 [==============================] - 21s 13ms/step - loss: 0.3370 - accuracy: 0.8835 - val_loss: 0.4602 - val_accuracy: 0.8559\n",
            "Epoch 21/50\n",
            "1562/1562 [==============================] - 21s 13ms/step - loss: 0.3236 - accuracy: 0.8901 - val_loss: 0.4355 - val_accuracy: 0.8546\n",
            "Epoch 22/50\n",
            "1562/1562 [==============================] - 21s 13ms/step - loss: 0.3148 - accuracy: 0.8924 - val_loss: 0.4495 - val_accuracy: 0.8594\n",
            "Epoch 23/50\n",
            "1562/1562 [==============================] - 21s 13ms/step - loss: 0.3049 - accuracy: 0.8948 - val_loss: 0.3987 - val_accuracy: 0.8639\n",
            "Epoch 24/50\n",
            "1562/1562 [==============================] - 21s 13ms/step - loss: 0.2977 - accuracy: 0.8968 - val_loss: 0.4558 - val_accuracy: 0.8591\n",
            "Epoch 25/50\n",
            "1562/1562 [==============================] - 21s 13ms/step - loss: 0.2865 - accuracy: 0.9013 - val_loss: 0.4450 - val_accuracy: 0.8587\n",
            "Epoch 26/50\n",
            "1562/1562 [==============================] - 21s 13ms/step - loss: 0.2839 - accuracy: 0.9022 - val_loss: 0.4227 - val_accuracy: 0.8673\n",
            "Epoch 27/50\n",
            "1562/1562 [==============================] - 21s 13ms/step - loss: 0.2751 - accuracy: 0.9052 - val_loss: 0.4551 - val_accuracy: 0.8618\n",
            "Epoch 28/50\n",
            "1562/1562 [==============================] - 21s 13ms/step - loss: 0.2696 - accuracy: 0.9079 - val_loss: 0.4206 - val_accuracy: 0.8685\n",
            "Epoch 29/50\n",
            "1562/1562 [==============================] - 21s 13ms/step - loss: 0.2645 - accuracy: 0.9095 - val_loss: 0.4605 - val_accuracy: 0.8551\n",
            "Epoch 30/50\n",
            "1562/1562 [==============================] - 21s 13ms/step - loss: 0.2580 - accuracy: 0.9110 - val_loss: 0.3845 - val_accuracy: 0.8765\n",
            "Epoch 31/50\n",
            "1562/1562 [==============================] - 21s 13ms/step - loss: 0.2472 - accuracy: 0.9148 - val_loss: 0.4458 - val_accuracy: 0.8601\n",
            "Epoch 32/50\n",
            "1562/1562 [==============================] - 21s 13ms/step - loss: 0.2515 - accuracy: 0.9132 - val_loss: 0.3810 - val_accuracy: 0.8769\n",
            "Epoch 33/50\n",
            "1562/1562 [==============================] - 20s 13ms/step - loss: 0.2436 - accuracy: 0.9155 - val_loss: 0.4200 - val_accuracy: 0.8781\n",
            "Epoch 34/50\n",
            "1562/1562 [==============================] - 21s 13ms/step - loss: 0.2385 - accuracy: 0.9182 - val_loss: 0.4418 - val_accuracy: 0.8700\n",
            "Epoch 35/50\n",
            "1562/1562 [==============================] - 20s 13ms/step - loss: 0.2338 - accuracy: 0.9190 - val_loss: 0.3962 - val_accuracy: 0.8795\n",
            "Epoch 36/50\n",
            "1562/1562 [==============================] - 20s 13ms/step - loss: 0.2267 - accuracy: 0.9212 - val_loss: 0.4189 - val_accuracy: 0.8706\n",
            "Epoch 37/50\n",
            "1562/1562 [==============================] - 21s 13ms/step - loss: 0.2240 - accuracy: 0.9235 - val_loss: 0.3838 - val_accuracy: 0.8833\n",
            "Epoch 38/50\n",
            "1562/1562 [==============================] - 21s 13ms/step - loss: 0.2223 - accuracy: 0.9232 - val_loss: 0.3966 - val_accuracy: 0.8777\n",
            "Epoch 39/50\n",
            "1562/1562 [==============================] - 21s 13ms/step - loss: 0.2153 - accuracy: 0.9269 - val_loss: 0.4035 - val_accuracy: 0.8818\n",
            "Epoch 40/50\n",
            "1562/1562 [==============================] - 20s 13ms/step - loss: 0.2152 - accuracy: 0.9251 - val_loss: 0.4029 - val_accuracy: 0.8780\n",
            "Epoch 41/50\n",
            "1562/1562 [==============================] - 21s 13ms/step - loss: 0.2119 - accuracy: 0.9266 - val_loss: 0.3887 - val_accuracy: 0.8846\n",
            "Epoch 42/50\n",
            "1562/1562 [==============================] - 21s 13ms/step - loss: 0.2037 - accuracy: 0.9293 - val_loss: 0.4313 - val_accuracy: 0.8712\n",
            "Epoch 43/50\n",
            "1562/1562 [==============================] - 21s 13ms/step - loss: 0.2025 - accuracy: 0.9299 - val_loss: 0.3815 - val_accuracy: 0.8822\n",
            "Epoch 44/50\n",
            "1562/1562 [==============================] - 21s 13ms/step - loss: 0.1998 - accuracy: 0.9311 - val_loss: 0.4194 - val_accuracy: 0.8739\n",
            "Epoch 45/50\n",
            "1562/1562 [==============================] - 20s 13ms/step - loss: 0.1989 - accuracy: 0.9314 - val_loss: 0.4114 - val_accuracy: 0.8749\n",
            "Epoch 46/50\n",
            "1562/1562 [==============================] - 21s 13ms/step - loss: 0.1962 - accuracy: 0.9317 - val_loss: 0.3882 - val_accuracy: 0.8797\n",
            "Epoch 47/50\n",
            "1562/1562 [==============================] - 21s 13ms/step - loss: 0.1943 - accuracy: 0.9329 - val_loss: 0.3854 - val_accuracy: 0.8808\n",
            "Epoch 48/50\n",
            "1562/1562 [==============================] - 21s 13ms/step - loss: 0.1871 - accuracy: 0.9357 - val_loss: 0.4882 - val_accuracy: 0.8675\n",
            "Epoch 49/50\n",
            "1562/1562 [==============================] - 21s 14ms/step - loss: 0.1852 - accuracy: 0.9359 - val_loss: 0.3997 - val_accuracy: 0.8812\n",
            "Epoch 50/50\n",
            "1562/1562 [==============================] - 21s 13ms/step - loss: 0.1878 - accuracy: 0.9365 - val_loss: 0.3815 - val_accuracy: 0.8786\n"
          ],
          "name": "stdout"
        }
      ]
    },
    {
      "cell_type": "markdown",
      "metadata": {
        "id": "FvlJcjqftKWs"
      },
      "source": [
        "**Observations:** We are getting a lower training accuracy but a higher Validation accuracy then previous model. Hence, there is lesser Overfitting. Therefore, the model has **improved**."
      ]
    },
    {
      "cell_type": "code",
      "metadata": {
        "colab": {
          "base_uri": "https://localhost:8080/"
        },
        "id": "3mUiuS7-7Jj9",
        "outputId": "953b32db-e1a1-417e-8797-b0ab8570b6c2"
      },
      "source": [
        "## Summary of our model\r\n",
        "model.summary()"
      ],
      "execution_count": 28,
      "outputs": [
        {
          "output_type": "stream",
          "text": [
            "Model: \"functional_5\"\n",
            "_________________________________________________________________\n",
            "Layer (type)                 Output Shape              Param #   \n",
            "=================================================================\n",
            "input_3 (InputLayer)         [(None, 32, 32, 3)]       0         \n",
            "_________________________________________________________________\n",
            "conv2d_12 (Conv2D)           (None, 32, 32, 32)        896       \n",
            "_________________________________________________________________\n",
            "batch_normalization_12 (Batc (None, 32, 32, 32)        128       \n",
            "_________________________________________________________________\n",
            "conv2d_13 (Conv2D)           (None, 32, 32, 32)        9248      \n",
            "_________________________________________________________________\n",
            "batch_normalization_13 (Batc (None, 32, 32, 32)        128       \n",
            "_________________________________________________________________\n",
            "max_pooling2d_6 (MaxPooling2 (None, 16, 16, 32)        0         \n",
            "_________________________________________________________________\n",
            "conv2d_14 (Conv2D)           (None, 16, 16, 64)        18496     \n",
            "_________________________________________________________________\n",
            "batch_normalization_14 (Batc (None, 16, 16, 64)        256       \n",
            "_________________________________________________________________\n",
            "conv2d_15 (Conv2D)           (None, 16, 16, 64)        36928     \n",
            "_________________________________________________________________\n",
            "batch_normalization_15 (Batc (None, 16, 16, 64)        256       \n",
            "_________________________________________________________________\n",
            "max_pooling2d_7 (MaxPooling2 (None, 8, 8, 64)          0         \n",
            "_________________________________________________________________\n",
            "conv2d_16 (Conv2D)           (None, 8, 8, 128)         73856     \n",
            "_________________________________________________________________\n",
            "batch_normalization_16 (Batc (None, 8, 8, 128)         512       \n",
            "_________________________________________________________________\n",
            "conv2d_17 (Conv2D)           (None, 8, 8, 128)         147584    \n",
            "_________________________________________________________________\n",
            "batch_normalization_17 (Batc (None, 8, 8, 128)         512       \n",
            "_________________________________________________________________\n",
            "max_pooling2d_8 (MaxPooling2 (None, 4, 4, 128)         0         \n",
            "_________________________________________________________________\n",
            "flatten_2 (Flatten)          (None, 2048)              0         \n",
            "_________________________________________________________________\n",
            "dropout_4 (Dropout)          (None, 2048)              0         \n",
            "_________________________________________________________________\n",
            "dense_4 (Dense)              (None, 1024)              2098176   \n",
            "_________________________________________________________________\n",
            "dropout_5 (Dropout)          (None, 1024)              0         \n",
            "_________________________________________________________________\n",
            "dense_5 (Dense)              (None, 10)                10250     \n",
            "=================================================================\n",
            "Total params: 2,397,226\n",
            "Trainable params: 2,396,330\n",
            "Non-trainable params: 896\n",
            "_________________________________________________________________\n"
          ],
          "name": "stdout"
        }
      ]
    },
    {
      "cell_type": "markdown",
      "metadata": {
        "id": "yW6DuuU6tKLz"
      },
      "source": [
        "Plot the **Accuracy score** and **Loss** per iteration"
      ]
    },
    {
      "cell_type": "code",
      "metadata": {
        "colab": {
          "base_uri": "https://localhost:8080/",
          "height": 265
        },
        "id": "QNkrq5WDtDrR",
        "outputId": "ab0b9c93-e643-4433-bb21-f07103108af5"
      },
      "source": [
        "# plot the score per iterations\r\n",
        "plt.plot(r.history['accuracy'], label='accuracy')\r\n",
        "plt.plot(r.history['val_accuracy'], label='val_score')\r\n",
        "plt.legend();"
      ],
      "execution_count": 21,
      "outputs": [
        {
          "output_type": "display_data",
          "data": {
            "image/png": "[encoded data removed]",
            "text/plain": [
              "<Figure size 432x288 with 1 Axes>"
            ]
          },
          "metadata": {
            "tags": [],
            "needs_background": "light"
          }
        }
      ]
    },
    {
      "cell_type": "code",
      "metadata": {
        "colab": {
          "base_uri": "https://localhost:8080/",
          "height": 265
        },
        "id": "NLvFjkGbs_7k",
        "outputId": "9ecc9b5d-aff1-4633-e0e8-fa461f81eccf"
      },
      "source": [
        "# plot the loss per iteration\r\n",
        "plt.plot(r.history['loss'], label='loss')\r\n",
        "plt.plot(r.history['val_loss'], label='val_loss')\r\n",
        "plt.legend();"
      ],
      "execution_count": 20,
      "outputs": [
        {
          "output_type": "display_data",
          "data": {
            "image/png": "[encoded data removed]",
            "text/plain": [
              "<Figure size 432x288 with 1 Axes>"
            ]
          },
          "metadata": {
            "tags": [],
            "needs_background": "light"
          }
        }
      ]
    },
    {
      "cell_type": "markdown",
      "metadata": {
        "id": "ctjppnyqtc-T"
      },
      "source": [
        ""
      ]
    },
    {
      "cell_type": "code",
      "metadata": {
        "colab": {
          "base_uri": "https://localhost:8080/",
          "height": 498
        },
        "id": "EJl8ANKDtDfm",
        "outputId": "ee69ab18-dd08-4f3b-bcfe-770f76b93c4a"
      },
      "source": [
        "# Plot confusion matrix\r\n",
        "from sklearn.metrics import confusion_matrix\r\n",
        "import itertools\r\n",
        "\r\n",
        "def plot_confusion_matrix(cm, classes,\r\n",
        "                          normalize=False,\r\n",
        "                          title='Confusion matrix',\r\n",
        "                          cmap=plt.cm.Blues):\r\n",
        "  \"\"\"\r\n",
        "  This function prints and plots the confusion matrix.\r\n",
        "  Normalization can be applied by setting `normalize=True`.\r\n",
        "  \"\"\"\r\n",
        "  if normalize:\r\n",
        "      cm = cm.astype('float') / cm.sum(axis=1)[:, np.newaxis]\r\n",
        "      print(\"Normalized confusion matrix\")\r\n",
        "  else:\r\n",
        "      print('Confusion matrix, without normalization')\r\n",
        "\r\n",
        "  print(cm)\r\n",
        "\r\n",
        "  plt.imshow(cm, interpolation='nearest', cmap=cmap)\r\n",
        "  plt.title(title)\r\n",
        "  plt.colorbar()\r\n",
        "  tick_marks = np.arange(len(classes))\r\n",
        "  plt.xticks(tick_marks, classes, rotation=45)\r\n",
        "  plt.yticks(tick_marks, classes)\r\n",
        "\r\n",
        "  fmt = '.2f' if normalize else 'd'\r\n",
        "  thresh = cm.max() / 2.\r\n",
        "  for i, j in itertools.product(range(cm.shape[0]), range(cm.shape[1])):\r\n",
        "      plt.text(j, i, format(cm[i, j], fmt),\r\n",
        "               horizontalalignment=\"center\",\r\n",
        "               color=\"white\" if cm[i, j] > thresh else \"black\")\r\n",
        "\r\n",
        "  plt.tight_layout()\r\n",
        "  plt.ylabel('True label')\r\n",
        "  plt.xlabel('Predicted label')\r\n",
        "  plt.show()\r\n",
        "\r\n",
        "\r\n",
        "p_test = model.predict(x_test).argmax(axis=1)\r\n",
        "cm = confusion_matrix(y_test, p_test)\r\n",
        "plot_confusion_matrix(cm, list(range(10)))\r\n"
      ],
      "execution_count": 22,
      "outputs": [
        {
          "output_type": "stream",
          "text": [
            "Confusion matrix, without normalization\n",
            "[[886   9  33   7   3   3   9  10  26  14]\n",
            " [  3 963   0   3   1   0   4   0   3  23]\n",
            " [ 19   0 862  26  17  18  42  10   3   3]\n",
            " [  6   2  40 748  19  87  64  22   4   8]\n",
            " [  4   0  42  37 820  22  45  27   2   1]\n",
            " [  4   0  26 105  22 793  28  21   0   1]\n",
            " [  1   1  21  17   2   3 953   1   0   1]\n",
            " [  8   1  13  16  12  20   4 921   1   4]\n",
            " [ 30  15   5   5   1   1   7   1 909  26]\n",
            " [  9  36   7   5   1   1   4   2   4 931]]\n"
          ],
          "name": "stdout"
        },
        {
          "output_type": "display_data",
          "data": {
            "image/png": "[encoded data removed]",
            "text/plain": [
              "<Figure size 432x288 with 2 Axes>"
            ]
          },
          "metadata": {
            "tags": [],
            "needs_background": "light"
          }
        }
      ]
    },
    {
      "cell_type": "markdown",
      "metadata": {
        "id": "0y9oO8Fbthbs"
      },
      "source": [
        "Observations: As we can check misclassified classes with the help of confusion matrix:\r\n",
        "\r\n",
        "Label 5 is miclassified as label 3 i.e., Dog is misclassified as cat in around **105** images.\r\n",
        "\r\n",
        "and label 3 is also misclassified as 5 i.e., Cat is misclassified as dog in 87 images.\r\n"
      ]
    },
    {
      "cell_type": "code",
      "metadata": {
        "id": "ro_cGQyhtDcw"
      },
      "source": [
        "# label mapping\r\n",
        "labels = '''airplane\r\n",
        "automobile\r\n",
        "bird\r\n",
        "cat\r\n",
        "deer\r\n",
        "dog\r\n",
        "frog\r\n",
        "horse\r\n",
        "ship\r\n",
        "truck'''.split()"
      ],
      "execution_count": 23,
      "outputs": []
    },
    {
      "cell_type": "code",
      "metadata": {
        "colab": {
          "base_uri": "https://localhost:8080/",
          "height": 281
        },
        "id": "Djkil92ttlvy",
        "outputId": "aa62cbf4-5198-4581-9aa1-e669011a00de"
      },
      "source": [
        "# Show some misclassified examples\r\n",
        "misclassified_idx = np.where(p_test != y_test)[0]\r\n",
        "i = np.random.choice(misclassified_idx)\r\n",
        "plt.imshow(x_test[i], cmap= 'gray')\r\n",
        "plt.title(\"True Label: %s, Predicted: %s\" % (labels[y_test[i]], labels[p_test[i]]));"
      ],
      "execution_count": 24,
      "outputs": [
        {
          "output_type": "display_data",
          "data": {
            "image/png": "[encoded data removed]",
            "text/plain": [
              "<Figure size 432x288 with 1 Axes>"
            ]
          },
          "metadata": {
            "tags": [],
            "needs_background": "light"
          }
        }
      ]
    },
    {
      "cell_type": "code",
      "metadata": {
        "colab": {
          "base_uri": "https://localhost:8080/",
          "height": 281
        },
        "id": "ylA1AGRUtleX",
        "outputId": "394ed881-d71b-47fa-b25a-5db1dbab0872"
      },
      "source": [
        "# Show some misclassified examples\r\n",
        "misclassified_idx = np.where(p_test != y_test)[0]\r\n",
        "i = np.random.choice(misclassified_idx)\r\n",
        "plt.imshow(x_test[i], cmap= 'gray')\r\n",
        "plt.title(\"True Label: %s, Predicted: %s\" % (labels[y_test[i]], labels[p_test[i]]));"
      ],
      "execution_count": 27,
      "outputs": [
        {
          "output_type": "display_data",
          "data": {
            "image/png": "[encoded data removed]",
            "text/plain": [
              "<Figure size 432x288 with 1 Axes>"
            ]
          },
          "metadata": {
            "tags": [],
            "needs_background": "light"
          }
        }
      ]
    },
    {
      "cell_type": "code",
      "metadata": {
        "colab": {
          "base_uri": "https://localhost:8080/",
          "height": 281
        },
        "id": "JSpFskYotlRl",
        "outputId": "494c5f7d-8fdc-48af-fd75-b1fe3518f2cb"
      },
      "source": [
        "# Show some misclassified examples\r\n",
        "misclassified_idx = np.where(p_test != y_test)[0]\r\n",
        "i = np.random.choice(misclassified_idx)\r\n",
        "plt.imshow(x_test[i], cmap= 'gray')\r\n",
        "plt.title(\"True Label: %s, Predicted: %s\" % (labels[y_test[i]], labels[p_test[i]]));"
      ],
      "execution_count": 26,
      "outputs": [
        {
          "output_type": "display_data",
          "data": {
            "image/png": "[encoded data removed]",
            "text/plain": [
              "<Figure size 432x288 with 1 Axes>"
            ]
          },
          "metadata": {
            "tags": [],
            "needs_background": "light"
          }
        }
      ]
    },
    {
      "cell_type": "code",
      "metadata": {
        "id": "uurLAQ5F4uv6"
      },
      "source": [
        "model.save()"
      ],
      "execution_count": null,
      "outputs": []
    }
  ]
}